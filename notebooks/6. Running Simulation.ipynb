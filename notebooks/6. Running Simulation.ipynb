{
 "cells": [
  {
   "cell_type": "markdown",
   "id": "a9c744da",
   "metadata": {},
   "source": [
    "# Simulation"
   ]
  },
  {
   "cell_type": "code",
   "execution_count": 1,
   "id": "204e331a",
   "metadata": {},
   "outputs": [],
   "source": [
    "import pandas as pd\n",
    "import numpy as np\n",
    "\n",
    "import logging\n",
    "import sys\n",
    "sys.path.insert(0, '../src')\n",
    "\n",
    "import utils.methods as al\n",
    "from utils.logger import logger\n",
    "from models.XPLORE import XPLORE"
   ]
  },
  {
   "cell_type": "markdown",
   "id": "4c005920",
   "metadata": {},
   "source": [
    "### Load Data"
   ]
  },
  {
   "cell_type": "code",
   "execution_count": 2,
   "id": "6445cbc7",
   "metadata": {},
   "outputs": [
    {
     "data": {
      "text/html": [
       "<div>\n",
       "<style scoped>\n",
       "    .dataframe tbody tr th:only-of-type {\n",
       "        vertical-align: middle;\n",
       "    }\n",
       "\n",
       "    .dataframe tbody tr th {\n",
       "        vertical-align: top;\n",
       "    }\n",
       "\n",
       "    .dataframe thead th {\n",
       "        text-align: right;\n",
       "    }\n",
       "</style>\n",
       "<table border=\"1\" class=\"dataframe\">\n",
       "  <thead>\n",
       "    <tr style=\"text-align: right;\">\n",
       "      <th></th>\n",
       "      <th>32214</th>\n",
       "      <th>32215</th>\n",
       "      <th>32216</th>\n",
       "      <th>32217</th>\n",
       "      <th>32218</th>\n",
       "      <th>32219</th>\n",
       "      <th>32220</th>\n",
       "      <th>32221</th>\n",
       "      <th>32222</th>\n",
       "      <th>32223</th>\n",
       "      <th>...</th>\n",
       "      <th>32279</th>\n",
       "      <th>32280</th>\n",
       "      <th>32281</th>\n",
       "      <th>32282</th>\n",
       "      <th>32283</th>\n",
       "      <th>32284</th>\n",
       "      <th>32285</th>\n",
       "      <th>32286</th>\n",
       "      <th>32287</th>\n",
       "      <th>32288</th>\n",
       "    </tr>\n",
       "    <tr>\n",
       "      <th>voter</th>\n",
       "      <th></th>\n",
       "      <th></th>\n",
       "      <th></th>\n",
       "      <th></th>\n",
       "      <th></th>\n",
       "      <th></th>\n",
       "      <th></th>\n",
       "      <th></th>\n",
       "      <th></th>\n",
       "      <th></th>\n",
       "      <th></th>\n",
       "      <th></th>\n",
       "      <th></th>\n",
       "      <th></th>\n",
       "      <th></th>\n",
       "      <th></th>\n",
       "      <th></th>\n",
       "      <th></th>\n",
       "      <th></th>\n",
       "      <th></th>\n",
       "      <th></th>\n",
       "    </tr>\n",
       "  </thead>\n",
       "  <tbody>\n",
       "    <tr>\n",
       "      <th>1160049</th>\n",
       "      <td>1.00</td>\n",
       "      <td>0.25</td>\n",
       "      <td>0.75</td>\n",
       "      <td>0.00</td>\n",
       "      <td>0.25</td>\n",
       "      <td>1.00</td>\n",
       "      <td>0.75</td>\n",
       "      <td>0.00</td>\n",
       "      <td>0.25</td>\n",
       "      <td>0.25</td>\n",
       "      <td>...</td>\n",
       "      <td>0.17</td>\n",
       "      <td>0.67</td>\n",
       "      <td>0.75</td>\n",
       "      <td>0.75</td>\n",
       "      <td>0.25</td>\n",
       "      <td>0.75</td>\n",
       "      <td>0.50</td>\n",
       "      <td>0.25</td>\n",
       "      <td>0.25</td>\n",
       "      <td>0.75</td>\n",
       "    </tr>\n",
       "    <tr>\n",
       "      <th>717263</th>\n",
       "      <td>1.00</td>\n",
       "      <td>0.75</td>\n",
       "      <td>0.75</td>\n",
       "      <td>0.00</td>\n",
       "      <td>0.75</td>\n",
       "      <td>0.25</td>\n",
       "      <td>1.00</td>\n",
       "      <td>1.00</td>\n",
       "      <td>0.25</td>\n",
       "      <td>0.00</td>\n",
       "      <td>...</td>\n",
       "      <td>0.83</td>\n",
       "      <td>0.67</td>\n",
       "      <td>0.50</td>\n",
       "      <td>0.50</td>\n",
       "      <td>0.50</td>\n",
       "      <td>0.50</td>\n",
       "      <td>0.50</td>\n",
       "      <td>0.50</td>\n",
       "      <td>0.50</td>\n",
       "      <td>0.50</td>\n",
       "    </tr>\n",
       "    <tr>\n",
       "      <th>231494</th>\n",
       "      <td>0.00</td>\n",
       "      <td>1.00</td>\n",
       "      <td>1.00</td>\n",
       "      <td>0.00</td>\n",
       "      <td>1.00</td>\n",
       "      <td>1.00</td>\n",
       "      <td>0.75</td>\n",
       "      <td>1.00</td>\n",
       "      <td>0.00</td>\n",
       "      <td>0.75</td>\n",
       "      <td>...</td>\n",
       "      <td>0.17</td>\n",
       "      <td>0.83</td>\n",
       "      <td>1.00</td>\n",
       "      <td>1.00</td>\n",
       "      <td>0.25</td>\n",
       "      <td>1.00</td>\n",
       "      <td>0.00</td>\n",
       "      <td>0.50</td>\n",
       "      <td>0.50</td>\n",
       "      <td>0.75</td>\n",
       "    </tr>\n",
       "    <tr>\n",
       "      <th>1444728</th>\n",
       "      <td>0.75</td>\n",
       "      <td>0.25</td>\n",
       "      <td>1.00</td>\n",
       "      <td>0.00</td>\n",
       "      <td>0.25</td>\n",
       "      <td>1.00</td>\n",
       "      <td>0.75</td>\n",
       "      <td>0.75</td>\n",
       "      <td>0.25</td>\n",
       "      <td>0.25</td>\n",
       "      <td>...</td>\n",
       "      <td>0.67</td>\n",
       "      <td>0.83</td>\n",
       "      <td>0.75</td>\n",
       "      <td>0.50</td>\n",
       "      <td>0.50</td>\n",
       "      <td>0.75</td>\n",
       "      <td>0.50</td>\n",
       "      <td>0.50</td>\n",
       "      <td>0.25</td>\n",
       "      <td>0.50</td>\n",
       "    </tr>\n",
       "    <tr>\n",
       "      <th>1208012</th>\n",
       "      <td>0.25</td>\n",
       "      <td>0.75</td>\n",
       "      <td>0.00</td>\n",
       "      <td>0.25</td>\n",
       "      <td>0.75</td>\n",
       "      <td>0.75</td>\n",
       "      <td>1.00</td>\n",
       "      <td>1.00</td>\n",
       "      <td>0.75</td>\n",
       "      <td>0.25</td>\n",
       "      <td>...</td>\n",
       "      <td>0.33</td>\n",
       "      <td>0.83</td>\n",
       "      <td>0.75</td>\n",
       "      <td>1.00</td>\n",
       "      <td>0.50</td>\n",
       "      <td>0.50</td>\n",
       "      <td>0.25</td>\n",
       "      <td>0.50</td>\n",
       "      <td>0.50</td>\n",
       "      <td>1.00</td>\n",
       "    </tr>\n",
       "    <tr>\n",
       "      <th>525723</th>\n",
       "      <td>1.00</td>\n",
       "      <td>0.00</td>\n",
       "      <td>1.00</td>\n",
       "      <td>1.00</td>\n",
       "      <td>0.75</td>\n",
       "      <td>0.25</td>\n",
       "      <td>1.00</td>\n",
       "      <td>1.00</td>\n",
       "      <td>1.00</td>\n",
       "      <td>0.00</td>\n",
       "      <td>...</td>\n",
       "      <td>0.67</td>\n",
       "      <td>1.00</td>\n",
       "      <td>0.50</td>\n",
       "      <td>0.75</td>\n",
       "      <td>0.50</td>\n",
       "      <td>0.50</td>\n",
       "      <td>0.00</td>\n",
       "      <td>0.50</td>\n",
       "      <td>0.75</td>\n",
       "      <td>0.75</td>\n",
       "    </tr>\n",
       "    <tr>\n",
       "      <th>792976</th>\n",
       "      <td>0.25</td>\n",
       "      <td>0.75</td>\n",
       "      <td>1.00</td>\n",
       "      <td>0.25</td>\n",
       "      <td>1.00</td>\n",
       "      <td>0.75</td>\n",
       "      <td>0.75</td>\n",
       "      <td>0.75</td>\n",
       "      <td>0.00</td>\n",
       "      <td>0.00</td>\n",
       "      <td>...</td>\n",
       "      <td>0.17</td>\n",
       "      <td>0.83</td>\n",
       "      <td>0.75</td>\n",
       "      <td>0.75</td>\n",
       "      <td>0.50</td>\n",
       "      <td>0.75</td>\n",
       "      <td>0.25</td>\n",
       "      <td>0.50</td>\n",
       "      <td>0.50</td>\n",
       "      <td>0.75</td>\n",
       "    </tr>\n",
       "    <tr>\n",
       "      <th>229866</th>\n",
       "      <td>0.75</td>\n",
       "      <td>1.00</td>\n",
       "      <td>1.00</td>\n",
       "      <td>0.00</td>\n",
       "      <td>1.00</td>\n",
       "      <td>1.00</td>\n",
       "      <td>0.25</td>\n",
       "      <td>1.00</td>\n",
       "      <td>0.75</td>\n",
       "      <td>0.00</td>\n",
       "      <td>...</td>\n",
       "      <td>0.50</td>\n",
       "      <td>1.00</td>\n",
       "      <td>1.00</td>\n",
       "      <td>0.75</td>\n",
       "      <td>0.75</td>\n",
       "      <td>1.00</td>\n",
       "      <td>0.25</td>\n",
       "      <td>0.50</td>\n",
       "      <td>0.00</td>\n",
       "      <td>0.50</td>\n",
       "    </tr>\n",
       "    <tr>\n",
       "      <th>528515</th>\n",
       "      <td>0.75</td>\n",
       "      <td>0.75</td>\n",
       "      <td>0.75</td>\n",
       "      <td>0.25</td>\n",
       "      <td>0.00</td>\n",
       "      <td>0.00</td>\n",
       "      <td>0.75</td>\n",
       "      <td>0.00</td>\n",
       "      <td>0.75</td>\n",
       "      <td>0.75</td>\n",
       "      <td>...</td>\n",
       "      <td>1.00</td>\n",
       "      <td>0.33</td>\n",
       "      <td>0.25</td>\n",
       "      <td>0.50</td>\n",
       "      <td>0.50</td>\n",
       "      <td>0.50</td>\n",
       "      <td>0.75</td>\n",
       "      <td>0.75</td>\n",
       "      <td>0.50</td>\n",
       "      <td>0.25</td>\n",
       "    </tr>\n",
       "    <tr>\n",
       "      <th>492506</th>\n",
       "      <td>0.25</td>\n",
       "      <td>1.00</td>\n",
       "      <td>0.75</td>\n",
       "      <td>0.00</td>\n",
       "      <td>1.00</td>\n",
       "      <td>1.00</td>\n",
       "      <td>0.25</td>\n",
       "      <td>1.00</td>\n",
       "      <td>0.25</td>\n",
       "      <td>0.00</td>\n",
       "      <td>...</td>\n",
       "      <td>0.17</td>\n",
       "      <td>0.83</td>\n",
       "      <td>0.75</td>\n",
       "      <td>0.75</td>\n",
       "      <td>0.25</td>\n",
       "      <td>1.00</td>\n",
       "      <td>0.25</td>\n",
       "      <td>0.25</td>\n",
       "      <td>0.25</td>\n",
       "      <td>0.50</td>\n",
       "    </tr>\n",
       "  </tbody>\n",
       "</table>\n",
       "<p>10 rows × 75 columns</p>\n",
       "</div>"
      ],
      "text/plain": [
       "         32214  32215  32216  32217  32218  32219  32220  32221  32222  32223  \\\n",
       "voter                                                                           \n",
       "1160049   1.00   0.25   0.75   0.00   0.25   1.00   0.75   0.00   0.25   0.25   \n",
       "717263    1.00   0.75   0.75   0.00   0.75   0.25   1.00   1.00   0.25   0.00   \n",
       "231494    0.00   1.00   1.00   0.00   1.00   1.00   0.75   1.00   0.00   0.75   \n",
       "1444728   0.75   0.25   1.00   0.00   0.25   1.00   0.75   0.75   0.25   0.25   \n",
       "1208012   0.25   0.75   0.00   0.25   0.75   0.75   1.00   1.00   0.75   0.25   \n",
       "525723    1.00   0.00   1.00   1.00   0.75   0.25   1.00   1.00   1.00   0.00   \n",
       "792976    0.25   0.75   1.00   0.25   1.00   0.75   0.75   0.75   0.00   0.00   \n",
       "229866    0.75   1.00   1.00   0.00   1.00   1.00   0.25   1.00   0.75   0.00   \n",
       "528515    0.75   0.75   0.75   0.25   0.00   0.00   0.75   0.00   0.75   0.75   \n",
       "492506    0.25   1.00   0.75   0.00   1.00   1.00   0.25   1.00   0.25   0.00   \n",
       "\n",
       "         ...  32279  32280  32281  32282  32283  32284  32285  32286  32287  \\\n",
       "voter    ...                                                                  \n",
       "1160049  ...   0.17   0.67   0.75   0.75   0.25   0.75   0.50   0.25   0.25   \n",
       "717263   ...   0.83   0.67   0.50   0.50   0.50   0.50   0.50   0.50   0.50   \n",
       "231494   ...   0.17   0.83   1.00   1.00   0.25   1.00   0.00   0.50   0.50   \n",
       "1444728  ...   0.67   0.83   0.75   0.50   0.50   0.75   0.50   0.50   0.25   \n",
       "1208012  ...   0.33   0.83   0.75   1.00   0.50   0.50   0.25   0.50   0.50   \n",
       "525723   ...   0.67   1.00   0.50   0.75   0.50   0.50   0.00   0.50   0.75   \n",
       "792976   ...   0.17   0.83   0.75   0.75   0.50   0.75   0.25   0.50   0.50   \n",
       "229866   ...   0.50   1.00   1.00   0.75   0.75   1.00   0.25   0.50   0.00   \n",
       "528515   ...   1.00   0.33   0.25   0.50   0.50   0.50   0.75   0.75   0.50   \n",
       "492506   ...   0.17   0.83   0.75   0.75   0.25   1.00   0.25   0.25   0.25   \n",
       "\n",
       "         32288  \n",
       "voter           \n",
       "1160049   0.75  \n",
       "717263    0.50  \n",
       "231494    0.75  \n",
       "1444728   0.50  \n",
       "1208012   1.00  \n",
       "525723    0.75  \n",
       "792976    0.75  \n",
       "229866    0.50  \n",
       "528515    0.25  \n",
       "492506    0.50  \n",
       "\n",
       "[10 rows x 75 columns]"
      ]
     },
     "execution_count": 2,
     "metadata": {},
     "output_type": "execute_result"
    }
   ],
   "source": [
    "folder_name = '../data/'\n",
    "\n",
    "voters = pd.read_csv(f'{folder_name}/voters_reactions.csv', index_col=0)\n",
    "candidates = pd.read_csv(f'{folder_name}/candidates_reactions.csv', index_col=0)\n",
    "coldstart = pd.DataFrame([], columns=candidates.columns)\n",
    "gptdata = pd.read_csv(f'{folder_name}/coldstart.csv', index_col=0)\n",
    "statements = pd.read_csv(f\"{folder_name}/questions.csv\", index_col=0)\n",
    "gptvoters = pd.read_csv(f'{folder_name}/gpt_voters.csv', index_col=0)\n",
    "\n",
    "test_reactions = voters.sample(n=10, random_state=0)\n",
    "test_reactions\n"
   ]
  },
  {
   "cell_type": "markdown",
   "id": "f8a41355",
   "metadata": {},
   "source": [
    "### Prepare Model"
   ]
  },
  {
   "cell_type": "code",
   "execution_count": 3,
   "id": "b41207ee",
   "metadata": {},
   "outputs": [
    {
     "data": {
      "text/html": [
       "<div>\n",
       "<style scoped>\n",
       "    .dataframe tbody tr th:only-of-type {\n",
       "        vertical-align: middle;\n",
       "    }\n",
       "\n",
       "    .dataframe tbody tr th {\n",
       "        vertical-align: top;\n",
       "    }\n",
       "\n",
       "    .dataframe thead th {\n",
       "        text-align: right;\n",
       "    }\n",
       "</style>\n",
       "<table border=\"1\" class=\"dataframe\">\n",
       "  <thead>\n",
       "    <tr style=\"text-align: right;\">\n",
       "      <th></th>\n",
       "      <th>beta1</th>\n",
       "      <th>beta2</th>\n",
       "      <th>alpha</th>\n",
       "    </tr>\n",
       "  </thead>\n",
       "  <tbody>\n",
       "    <tr>\n",
       "      <th>32214</th>\n",
       "      <td>1.617838</td>\n",
       "      <td>-3.421553</td>\n",
       "      <td>-0.418051</td>\n",
       "    </tr>\n",
       "    <tr>\n",
       "      <th>32215</th>\n",
       "      <td>-3.599476</td>\n",
       "      <td>1.281332</td>\n",
       "      <td>0.446724</td>\n",
       "    </tr>\n",
       "    <tr>\n",
       "      <th>32216</th>\n",
       "      <td>-0.647695</td>\n",
       "      <td>0.816033</td>\n",
       "      <td>1.080903</td>\n",
       "    </tr>\n",
       "    <tr>\n",
       "      <th>32217</th>\n",
       "      <td>1.951557</td>\n",
       "      <td>-3.968032</td>\n",
       "      <td>-0.153674</td>\n",
       "    </tr>\n",
       "    <tr>\n",
       "      <th>32218</th>\n",
       "      <td>-4.754032</td>\n",
       "      <td>0.321055</td>\n",
       "      <td>0.356404</td>\n",
       "    </tr>\n",
       "  </tbody>\n",
       "</table>\n",
       "</div>"
      ],
      "text/plain": [
       "          beta1     beta2     alpha\n",
       "32214  1.617838 -3.421553 -0.418051\n",
       "32215 -3.599476  1.281332  0.446724\n",
       "32216 -0.647695  0.816033  1.080903\n",
       "32217  1.951557 -3.968032 -0.153674\n",
       "32218 -4.754032  0.321055  0.356404"
      ]
     },
     "execution_count": 3,
     "metadata": {},
     "output_type": "execute_result"
    }
   ],
   "source": [
    "xplore = XPLORE(candidates, prior_cov=np.array([[.1, 0], [0, .1]]))\n",
    "xplore.items.head()"
   ]
  },
  {
   "cell_type": "code",
   "execution_count": 4,
   "id": "3a760d15",
   "metadata": {},
   "outputs": [
    {
     "data": {
      "text/plain": [
       "(0.2564247407867207, 0.7786727567217363)"
      ]
     },
     "execution_count": 4,
     "metadata": {},
     "output_type": "execute_result"
    }
   ],
   "source": [
    "xplore.evaluate()"
   ]
  },
  {
   "cell_type": "markdown",
   "id": "658045ea",
   "metadata": {},
   "source": [
    "### Implement Framework"
   ]
  },
  {
   "cell_type": "code",
   "execution_count": 6,
   "id": "669edfb9",
   "metadata": {},
   "outputs": [
    {
     "name": "stderr",
     "output_type": "stream",
     "text": [
      "INFO - User 0: 1160049 gives 0.32 RMSE and 0.47% CRA.\n",
      "INFO - User 1: 717263 gives 0.30 RMSE and 0.50% CRA.\n",
      "INFO - User 2: 231494 gives 0.30 RMSE and 0.28% CRA.\n",
      "INFO - User 3: 1444728 gives 0.25 RMSE and 0.33% CRA.\n",
      "INFO - User 4: 1208012 gives 0.34 RMSE and 0.39% CRA.\n",
      "DEBUG - Upgrade with batch sparsity: 0.59\n",
      "INFO - Initialized model with 1034 users.\n",
      "INFO - User 5: 525723 gives 0.35 RMSE and 0.42% CRA.\n",
      "INFO - User 6: 792976 gives 0.20 RMSE and 0.42% CRA.\n",
      "INFO - User 7: 229866 gives 0.36 RMSE and 0.50% CRA.\n",
      "INFO - User 8: 528515 gives 0.26 RMSE and 0.50% CRA.\n",
      "INFO - User 9: 492506 gives 0.16 RMSE and 0.61% CRA.\n"
     ]
    }
   ],
   "source": [
    "method = al.RandomSelection(model=xplore)\n",
    "simulation = al.ColdStartSimulation(method, test_reactions, candidates, number_queries=31)\n",
    "simulation.run()"
   ]
  },
  {
   "cell_type": "code",
   "execution_count": 7,
   "id": "ce0546ba",
   "metadata": {},
   "outputs": [
    {
     "data": {
      "text/html": [
       "<div>\n",
       "<style scoped>\n",
       "    .dataframe tbody tr th:only-of-type {\n",
       "        vertical-align: middle;\n",
       "    }\n",
       "\n",
       "    .dataframe tbody tr th {\n",
       "        vertical-align: top;\n",
       "    }\n",
       "\n",
       "    .dataframe thead th {\n",
       "        text-align: right;\n",
       "    }\n",
       "</style>\n",
       "<table border=\"1\" class=\"dataframe\">\n",
       "  <thead>\n",
       "    <tr style=\"text-align: right;\">\n",
       "      <th></th>\n",
       "      <th>User</th>\n",
       "      <th>RMSE</th>\n",
       "      <th>CRA</th>\n",
       "      <th>ModelVersion</th>\n",
       "      <th>TimeStamp</th>\n",
       "      <th>Queries</th>\n",
       "    </tr>\n",
       "  </thead>\n",
       "  <tbody>\n",
       "    <tr>\n",
       "      <th>0</th>\n",
       "      <td>1160049</td>\n",
       "      <td>0.322238</td>\n",
       "      <td>0.472222</td>\n",
       "      <td>0</td>\n",
       "      <td>2024-09-27 09:54:04.838231</td>\n",
       "      <td>[32216, 32220, 32223, 32227, 32229, 32230, 322...</td>\n",
       "    </tr>\n",
       "    <tr>\n",
       "      <th>1</th>\n",
       "      <td>717263</td>\n",
       "      <td>0.302676</td>\n",
       "      <td>0.500000</td>\n",
       "      <td>0</td>\n",
       "      <td>2024-09-27 09:54:04.857870</td>\n",
       "      <td>[32216, 32220, 32221, 32224, 32225, 32229, 322...</td>\n",
       "    </tr>\n",
       "    <tr>\n",
       "      <th>2</th>\n",
       "      <td>231494</td>\n",
       "      <td>0.296800</td>\n",
       "      <td>0.277778</td>\n",
       "      <td>0</td>\n",
       "      <td>2024-09-27 09:54:04.877784</td>\n",
       "      <td>[32215, 32217, 32220, 32222, 32223, 32224, 322...</td>\n",
       "    </tr>\n",
       "    <tr>\n",
       "      <th>3</th>\n",
       "      <td>1444728</td>\n",
       "      <td>0.252943</td>\n",
       "      <td>0.333333</td>\n",
       "      <td>0</td>\n",
       "      <td>2024-09-27 09:54:04.896835</td>\n",
       "      <td>[32216, 32218, 32219, 32220, 32221, 32222, 322...</td>\n",
       "    </tr>\n",
       "    <tr>\n",
       "      <th>4</th>\n",
       "      <td>1208012</td>\n",
       "      <td>0.338624</td>\n",
       "      <td>0.388889</td>\n",
       "      <td>0</td>\n",
       "      <td>2024-09-27 09:54:04.916255</td>\n",
       "      <td>[32216, 32218, 32220, 32225, 32227, 32229, 322...</td>\n",
       "    </tr>\n",
       "    <tr>\n",
       "      <th>5</th>\n",
       "      <td>525723</td>\n",
       "      <td>0.346380</td>\n",
       "      <td>0.416667</td>\n",
       "      <td>5</td>\n",
       "      <td>2024-09-27 09:54:05.058116</td>\n",
       "      <td>[32217, 32218, 32219, 32224, 32225, 32227, 322...</td>\n",
       "    </tr>\n",
       "    <tr>\n",
       "      <th>6</th>\n",
       "      <td>792976</td>\n",
       "      <td>0.204851</td>\n",
       "      <td>0.416667</td>\n",
       "      <td>5</td>\n",
       "      <td>2024-09-27 09:54:05.076614</td>\n",
       "      <td>[32216, 32219, 32223, 32227, 32228, 32229, 322...</td>\n",
       "    </tr>\n",
       "    <tr>\n",
       "      <th>7</th>\n",
       "      <td>229866</td>\n",
       "      <td>0.363285</td>\n",
       "      <td>0.500000</td>\n",
       "      <td>5</td>\n",
       "      <td>2024-09-27 09:54:05.095522</td>\n",
       "      <td>[32214, 32218, 32220, 32221, 32223, 32228, 322...</td>\n",
       "    </tr>\n",
       "    <tr>\n",
       "      <th>8</th>\n",
       "      <td>528515</td>\n",
       "      <td>0.263387</td>\n",
       "      <td>0.500000</td>\n",
       "      <td>5</td>\n",
       "      <td>2024-09-27 09:54:05.114057</td>\n",
       "      <td>[32214, 32219, 32222, 32224, 32235, 32236, 322...</td>\n",
       "    </tr>\n",
       "    <tr>\n",
       "      <th>9</th>\n",
       "      <td>492506</td>\n",
       "      <td>0.156990</td>\n",
       "      <td>0.611111</td>\n",
       "      <td>5</td>\n",
       "      <td>2024-09-27 09:54:05.132725</td>\n",
       "      <td>[32219, 32221, 32225, 32226, 32228, 32230, 322...</td>\n",
       "    </tr>\n",
       "  </tbody>\n",
       "</table>\n",
       "</div>"
      ],
      "text/plain": [
       "      User      RMSE       CRA  ModelVersion                  TimeStamp  \\\n",
       "0  1160049  0.322238  0.472222             0 2024-09-27 09:54:04.838231   \n",
       "1   717263  0.302676  0.500000             0 2024-09-27 09:54:04.857870   \n",
       "2   231494  0.296800  0.277778             0 2024-09-27 09:54:04.877784   \n",
       "3  1444728  0.252943  0.333333             0 2024-09-27 09:54:04.896835   \n",
       "4  1208012  0.338624  0.388889             0 2024-09-27 09:54:04.916255   \n",
       "5   525723  0.346380  0.416667             5 2024-09-27 09:54:05.058116   \n",
       "6   792976  0.204851  0.416667             5 2024-09-27 09:54:05.076614   \n",
       "7   229866  0.363285  0.500000             5 2024-09-27 09:54:05.095522   \n",
       "8   528515  0.263387  0.500000             5 2024-09-27 09:54:05.114057   \n",
       "9   492506  0.156990  0.611111             5 2024-09-27 09:54:05.132725   \n",
       "\n",
       "                                             Queries  \n",
       "0  [32216, 32220, 32223, 32227, 32229, 32230, 322...  \n",
       "1  [32216, 32220, 32221, 32224, 32225, 32229, 322...  \n",
       "2  [32215, 32217, 32220, 32222, 32223, 32224, 322...  \n",
       "3  [32216, 32218, 32219, 32220, 32221, 32222, 322...  \n",
       "4  [32216, 32218, 32220, 32225, 32227, 32229, 322...  \n",
       "5  [32217, 32218, 32219, 32224, 32225, 32227, 322...  \n",
       "6  [32216, 32219, 32223, 32227, 32228, 32229, 322...  \n",
       "7  [32214, 32218, 32220, 32221, 32223, 32228, 322...  \n",
       "8  [32214, 32219, 32222, 32224, 32235, 32236, 322...  \n",
       "9  [32219, 32221, 32225, 32226, 32228, 32230, 322...  "
      ]
     },
     "execution_count": 7,
     "metadata": {},
     "output_type": "execute_result"
    }
   ],
   "source": [
    "simulation.save_results()"
   ]
  },
  {
   "cell_type": "markdown",
   "id": "1a6f567d",
   "metadata": {},
   "source": [
    "## Simulation"
   ]
  },
  {
   "cell_type": "code",
   "execution_count": 7,
   "id": "02a790e6",
   "metadata": {},
   "outputs": [],
   "source": [
    "datasets = {'Coldstart': coldstart,\n",
    "            'GPT': gptdata,\n",
    "            'GPTmeans':gptdata.groupby(level=0).mean(),\n",
    "            'GPTvoters': gptvoters.sample(n=1000, random_state=42),\n",
    "            'Candidates': candidates,\n",
    "            # 'Voters': voters.sample(n=1000, random_state=42)\n",
    "            }\n"
   ]
  },
  {
   "cell_type": "code",
   "execution_count": 4,
   "id": "c7b90919",
   "metadata": {},
   "outputs": [],
   "source": [
    "logger.setLevel(logging.WARNING)\n",
    "\n",
    "def run_simulation(dataset: str, method: al.SelectionMethod, n_queries:int, n_voters: int, random_state: int, verbose=40):\n",
    "    test_reactions = voters.sample(n=n_voters, random_state=random_state)\n",
    "    model = XPLORE(datasets[dataset], prior_cov=np.array([[.075, 0], [0, .075]]))\n",
    "    method = method(model=model)\n",
    "    simulation = al.ColdStartSimulation(method, test_reactions, candidates, number_queries=n_queries)\n",
    "    simulation.run(verbose=verbose)\n",
    "    simulation.save_results(f'{dataset}', suffix=f'_S{random_state}')"
   ]
  },
  {
   "cell_type": "code",
   "execution_count": null,
   "id": "650fd8db",
   "metadata": {},
   "outputs": [
    {
     "name": "stderr",
     "output_type": "stream",
     "text": [
      "WARNING - No model fitted for Feature 32217.\n",
      "WARNING - No model fitted for Feature 32250.\n",
      "WARNING - No model fitted for Feature 32253.\n",
      "WARNING - No model fitted for Feature 32259.\n",
      "WARNING - No model fitted for Feature 32266.\n",
      "WARNING - No model fitted for Feature 32266.\n",
      "WARNING - No model fitted for Feature 32225.\n",
      "WARNING - No model fitted for Feature 32250.\n",
      "WARNING - No model fitted for Feature 32255.\n",
      "WARNING - No model fitted for Feature 32258.\n",
      "WARNING - No model fitted for Feature 32266.\n",
      "WARNING - No model fitted for Feature 32225.\n",
      "WARNING - No model fitted for Feature 32258.\n",
      "WARNING - No model fitted for Feature 32266.\n"
     ]
    }
   ],
   "source": [
    "run_simulation(dataset='GPTvoters', \n",
    "               method=al.Uncertainty, \n",
    "               n_queries=10, \n",
    "               n_voters=1200,\n",
    "               random_state=0,\n",
    "               verbose=75)"
   ]
  },
  {
   "cell_type": "code",
   "execution_count": 9,
   "id": "bd03392c",
   "metadata": {},
   "outputs": [
    {
     "name": "stdout",
     "output_type": "stream",
     "text": [
      "Starting simulation 0.\n"
     ]
    },
    {
     "name": "stderr",
     "output_type": "stream",
     "text": [
      "/Users/fybach/D3-Project/Papers/Political Language Models/notebooks/../src/utils/methods.py:164: FutureWarning: The behavior of DataFrame concatenation with empty or all-NA entries is deprecated. In a future version, this will no longer exclude empty or all-NA columns when determining the result dtypes. To retain the old behavior, exclude the relevant entries before the concat operation.\n",
      "  new_reactions = pd.concat([self.method.model.fit_reactions, batch_data])\n"
     ]
    },
    {
     "name": "stdout",
     "output_type": "stream",
     "text": [
      "Starting simulation 1.\n"
     ]
    },
    {
     "name": "stderr",
     "output_type": "stream",
     "text": [
      "/Users/fybach/D3-Project/Papers/Political Language Models/notebooks/../src/utils/methods.py:164: FutureWarning: The behavior of DataFrame concatenation with empty or all-NA entries is deprecated. In a future version, this will no longer exclude empty or all-NA columns when determining the result dtypes. To retain the old behavior, exclude the relevant entries before the concat operation.\n",
      "  new_reactions = pd.concat([self.method.model.fit_reactions, batch_data])\n"
     ]
    },
    {
     "name": "stdout",
     "output_type": "stream",
     "text": [
      "Starting simulation 2.\n"
     ]
    },
    {
     "name": "stderr",
     "output_type": "stream",
     "text": [
      "/Users/fybach/D3-Project/Papers/Political Language Models/notebooks/../src/utils/methods.py:164: FutureWarning: The behavior of DataFrame concatenation with empty or all-NA entries is deprecated. In a future version, this will no longer exclude empty or all-NA columns when determining the result dtypes. To retain the old behavior, exclude the relevant entries before the concat operation.\n",
      "  new_reactions = pd.concat([self.method.model.fit_reactions, batch_data])\n"
     ]
    },
    {
     "name": "stdout",
     "output_type": "stream",
     "text": [
      "Starting simulation 3.\n"
     ]
    },
    {
     "name": "stderr",
     "output_type": "stream",
     "text": [
      "/Users/fybach/D3-Project/Papers/Political Language Models/notebooks/../src/utils/methods.py:164: FutureWarning: The behavior of DataFrame concatenation with empty or all-NA entries is deprecated. In a future version, this will no longer exclude empty or all-NA columns when determining the result dtypes. To retain the old behavior, exclude the relevant entries before the concat operation.\n",
      "  new_reactions = pd.concat([self.method.model.fit_reactions, batch_data])\n"
     ]
    },
    {
     "name": "stdout",
     "output_type": "stream",
     "text": [
      "Starting simulation 4.\n"
     ]
    },
    {
     "name": "stderr",
     "output_type": "stream",
     "text": [
      "/Users/fybach/D3-Project/Papers/Political Language Models/notebooks/../src/utils/methods.py:164: FutureWarning: The behavior of DataFrame concatenation with empty or all-NA entries is deprecated. In a future version, this will no longer exclude empty or all-NA columns when determining the result dtypes. To retain the old behavior, exclude the relevant entries before the concat operation.\n",
      "  new_reactions = pd.concat([self.method.model.fit_reactions, batch_data])\n"
     ]
    },
    {
     "name": "stdout",
     "output_type": "stream",
     "text": [
      "Starting simulation 5.\n"
     ]
    },
    {
     "name": "stderr",
     "output_type": "stream",
     "text": [
      "/Users/fybach/D3-Project/Papers/Political Language Models/notebooks/../src/utils/methods.py:164: FutureWarning: The behavior of DataFrame concatenation with empty or all-NA entries is deprecated. In a future version, this will no longer exclude empty or all-NA columns when determining the result dtypes. To retain the old behavior, exclude the relevant entries before the concat operation.\n",
      "  new_reactions = pd.concat([self.method.model.fit_reactions, batch_data])\n"
     ]
    },
    {
     "name": "stdout",
     "output_type": "stream",
     "text": [
      "Starting simulation 6.\n"
     ]
    },
    {
     "name": "stderr",
     "output_type": "stream",
     "text": [
      "/Users/fybach/D3-Project/Papers/Political Language Models/notebooks/../src/utils/methods.py:164: FutureWarning: The behavior of DataFrame concatenation with empty or all-NA entries is deprecated. In a future version, this will no longer exclude empty or all-NA columns when determining the result dtypes. To retain the old behavior, exclude the relevant entries before the concat operation.\n",
      "  new_reactions = pd.concat([self.method.model.fit_reactions, batch_data])\n"
     ]
    },
    {
     "name": "stdout",
     "output_type": "stream",
     "text": [
      "Starting simulation 7.\n"
     ]
    },
    {
     "name": "stderr",
     "output_type": "stream",
     "text": [
      "/Users/fybach/D3-Project/Papers/Political Language Models/notebooks/../src/utils/methods.py:164: FutureWarning: The behavior of DataFrame concatenation with empty or all-NA entries is deprecated. In a future version, this will no longer exclude empty or all-NA columns when determining the result dtypes. To retain the old behavior, exclude the relevant entries before the concat operation.\n",
      "  new_reactions = pd.concat([self.method.model.fit_reactions, batch_data])\n"
     ]
    },
    {
     "name": "stdout",
     "output_type": "stream",
     "text": [
      "Starting simulation 8.\n"
     ]
    },
    {
     "name": "stderr",
     "output_type": "stream",
     "text": [
      "/Users/fybach/D3-Project/Papers/Political Language Models/notebooks/../src/utils/methods.py:164: FutureWarning: The behavior of DataFrame concatenation with empty or all-NA entries is deprecated. In a future version, this will no longer exclude empty or all-NA columns when determining the result dtypes. To retain the old behavior, exclude the relevant entries before the concat operation.\n",
      "  new_reactions = pd.concat([self.method.model.fit_reactions, batch_data])\n"
     ]
    },
    {
     "name": "stdout",
     "output_type": "stream",
     "text": [
      "Starting simulation 9.\n"
     ]
    },
    {
     "name": "stderr",
     "output_type": "stream",
     "text": [
      "/Users/fybach/D3-Project/Papers/Political Language Models/notebooks/../src/utils/methods.py:164: FutureWarning: The behavior of DataFrame concatenation with empty or all-NA entries is deprecated. In a future version, this will no longer exclude empty or all-NA columns when determining the result dtypes. To retain the old behavior, exclude the relevant entries before the concat operation.\n",
      "  new_reactions = pd.concat([self.method.model.fit_reactions, batch_data])\n"
     ]
    }
   ],
   "source": [
    "logger.setLevel(logging.CRITICAL)\n",
    "for seed in range(0,10):\n",
    "    print(f'Starting simulation {seed}.')\n",
    "    run_simulation(dataset='Coldstart', \n",
    "               method=al.Uncertainty, \n",
    "               n_queries=45, \n",
    "               n_voters=1200,\n",
    "               random_state=seed,\n",
    "               verbose=None)"
   ]
  },
  {
   "cell_type": "code",
   "execution_count": 9,
   "id": "8b32d920",
   "metadata": {},
   "outputs": [
    {
     "name": "stdout",
     "output_type": "stream",
     "text": [
      "Starting simulation with Coldstart, 45 responses, and seed 90 after 0 minutes.\n"
     ]
    },
    {
     "name": "stderr",
     "output_type": "stream",
     "text": [
      "/Users/fybach/D3-Project/Papers/Political Language Models/notebooks/../src/utils/methods.py:164: FutureWarning: The behavior of DataFrame concatenation with empty or all-NA entries is deprecated. In a future version, this will no longer exclude empty or all-NA columns when determining the result dtypes. To retain the old behavior, exclude the relevant entries before the concat operation.\n",
      "  new_reactions = pd.concat([self.method.model.fit_reactions, batch_data])\n"
     ]
    },
    {
     "name": "stdout",
     "output_type": "stream",
     "text": [
      "Starting simulation with Coldstart, 45 responses, and seed 91 after 8 minutes.\n"
     ]
    },
    {
     "name": "stderr",
     "output_type": "stream",
     "text": [
      "/Users/fybach/D3-Project/Papers/Political Language Models/notebooks/../src/utils/methods.py:164: FutureWarning: The behavior of DataFrame concatenation with empty or all-NA entries is deprecated. In a future version, this will no longer exclude empty or all-NA columns when determining the result dtypes. To retain the old behavior, exclude the relevant entries before the concat operation.\n",
      "  new_reactions = pd.concat([self.method.model.fit_reactions, batch_data])\n"
     ]
    },
    {
     "name": "stdout",
     "output_type": "stream",
     "text": [
      "Starting simulation with Coldstart, 45 responses, and seed 92 after 15 minutes.\n"
     ]
    },
    {
     "name": "stderr",
     "output_type": "stream",
     "text": [
      "/Users/fybach/D3-Project/Papers/Political Language Models/notebooks/../src/utils/methods.py:164: FutureWarning: The behavior of DataFrame concatenation with empty or all-NA entries is deprecated. In a future version, this will no longer exclude empty or all-NA columns when determining the result dtypes. To retain the old behavior, exclude the relevant entries before the concat operation.\n",
      "  new_reactions = pd.concat([self.method.model.fit_reactions, batch_data])\n"
     ]
    },
    {
     "name": "stdout",
     "output_type": "stream",
     "text": [
      "Starting simulation with Coldstart, 45 responses, and seed 93 after 23 minutes.\n"
     ]
    },
    {
     "name": "stderr",
     "output_type": "stream",
     "text": [
      "/Users/fybach/D3-Project/Papers/Political Language Models/notebooks/../src/utils/methods.py:164: FutureWarning: The behavior of DataFrame concatenation with empty or all-NA entries is deprecated. In a future version, this will no longer exclude empty or all-NA columns when determining the result dtypes. To retain the old behavior, exclude the relevant entries before the concat operation.\n",
      "  new_reactions = pd.concat([self.method.model.fit_reactions, batch_data])\n"
     ]
    },
    {
     "name": "stdout",
     "output_type": "stream",
     "text": [
      "Starting simulation with Coldstart, 45 responses, and seed 94 after 30 minutes.\n"
     ]
    },
    {
     "name": "stderr",
     "output_type": "stream",
     "text": [
      "/Users/fybach/D3-Project/Papers/Political Language Models/notebooks/../src/utils/methods.py:164: FutureWarning: The behavior of DataFrame concatenation with empty or all-NA entries is deprecated. In a future version, this will no longer exclude empty or all-NA columns when determining the result dtypes. To retain the old behavior, exclude the relevant entries before the concat operation.\n",
      "  new_reactions = pd.concat([self.method.model.fit_reactions, batch_data])\n"
     ]
    },
    {
     "name": "stdout",
     "output_type": "stream",
     "text": [
      "Starting simulation with Coldstart, 45 responses, and seed 95 after 37 minutes.\n"
     ]
    },
    {
     "name": "stderr",
     "output_type": "stream",
     "text": [
      "/Users/fybach/D3-Project/Papers/Political Language Models/notebooks/../src/utils/methods.py:164: FutureWarning: The behavior of DataFrame concatenation with empty or all-NA entries is deprecated. In a future version, this will no longer exclude empty or all-NA columns when determining the result dtypes. To retain the old behavior, exclude the relevant entries before the concat operation.\n",
      "  new_reactions = pd.concat([self.method.model.fit_reactions, batch_data])\n"
     ]
    },
    {
     "name": "stdout",
     "output_type": "stream",
     "text": [
      "Starting simulation with Coldstart, 45 responses, and seed 96 after 44 minutes.\n"
     ]
    },
    {
     "name": "stderr",
     "output_type": "stream",
     "text": [
      "/Users/fybach/D3-Project/Papers/Political Language Models/notebooks/../src/utils/methods.py:164: FutureWarning: The behavior of DataFrame concatenation with empty or all-NA entries is deprecated. In a future version, this will no longer exclude empty or all-NA columns when determining the result dtypes. To retain the old behavior, exclude the relevant entries before the concat operation.\n",
      "  new_reactions = pd.concat([self.method.model.fit_reactions, batch_data])\n"
     ]
    },
    {
     "name": "stdout",
     "output_type": "stream",
     "text": [
      "Starting simulation with Coldstart, 45 responses, and seed 97 after 51 minutes.\n"
     ]
    },
    {
     "name": "stderr",
     "output_type": "stream",
     "text": [
      "/Users/fybach/D3-Project/Papers/Political Language Models/notebooks/../src/utils/methods.py:164: FutureWarning: The behavior of DataFrame concatenation with empty or all-NA entries is deprecated. In a future version, this will no longer exclude empty or all-NA columns when determining the result dtypes. To retain the old behavior, exclude the relevant entries before the concat operation.\n",
      "  new_reactions = pd.concat([self.method.model.fit_reactions, batch_data])\n"
     ]
    },
    {
     "name": "stdout",
     "output_type": "stream",
     "text": [
      "Starting simulation with Coldstart, 45 responses, and seed 98 after 59 minutes.\n"
     ]
    },
    {
     "name": "stderr",
     "output_type": "stream",
     "text": [
      "/Users/fybach/D3-Project/Papers/Political Language Models/notebooks/../src/utils/methods.py:164: FutureWarning: The behavior of DataFrame concatenation with empty or all-NA entries is deprecated. In a future version, this will no longer exclude empty or all-NA columns when determining the result dtypes. To retain the old behavior, exclude the relevant entries before the concat operation.\n",
      "  new_reactions = pd.concat([self.method.model.fit_reactions, batch_data])\n"
     ]
    },
    {
     "name": "stdout",
     "output_type": "stream",
     "text": [
      "Starting simulation with Coldstart, 45 responses, and seed 99 after 66 minutes.\n"
     ]
    },
    {
     "name": "stderr",
     "output_type": "stream",
     "text": [
      "/Users/fybach/D3-Project/Papers/Political Language Models/notebooks/../src/utils/methods.py:164: FutureWarning: The behavior of DataFrame concatenation with empty or all-NA entries is deprecated. In a future version, this will no longer exclude empty or all-NA columns when determining the result dtypes. To retain the old behavior, exclude the relevant entries before the concat operation.\n",
      "  new_reactions = pd.concat([self.method.model.fit_reactions, batch_data])\n"
     ]
    },
    {
     "name": "stdout",
     "output_type": "stream",
     "text": [
      "Starting simulation with GPT, 45 responses, and seed 90 after 73 minutes.\n",
      "Starting simulation with GPT, 45 responses, and seed 91 after 80 minutes.\n",
      "Starting simulation with GPT, 45 responses, and seed 92 after 88 minutes.\n",
      "Starting simulation with GPT, 45 responses, and seed 93 after 95 minutes.\n",
      "Starting simulation with GPT, 45 responses, and seed 94 after 102 minutes.\n",
      "Starting simulation with GPT, 45 responses, and seed 95 after 110 minutes.\n",
      "Starting simulation with GPT, 45 responses, and seed 96 after 117 minutes.\n",
      "Starting simulation with GPT, 45 responses, and seed 97 after 124 minutes.\n",
      "Starting simulation with GPT, 45 responses, and seed 98 after 132 minutes.\n",
      "Starting simulation with GPT, 45 responses, and seed 99 after 139 minutes.\n",
      "Starting simulation with GPTmeans, 45 responses, and seed 90 after 146 minutes.\n",
      "Starting simulation with GPTmeans, 45 responses, and seed 91 after 154 minutes.\n",
      "Starting simulation with GPTmeans, 45 responses, and seed 92 after 161 minutes.\n",
      "Starting simulation with GPTmeans, 45 responses, and seed 93 after 168 minutes.\n",
      "Starting simulation with GPTmeans, 45 responses, and seed 94 after 176 minutes.\n",
      "Starting simulation with GPTmeans, 45 responses, and seed 95 after 183 minutes.\n",
      "Starting simulation with GPTmeans, 45 responses, and seed 96 after 190 minutes.\n",
      "Starting simulation with GPTmeans, 45 responses, and seed 97 after 198 minutes.\n",
      "Starting simulation with GPTmeans, 45 responses, and seed 98 after 205 minutes.\n",
      "Starting simulation with GPTmeans, 45 responses, and seed 99 after 212 minutes.\n",
      "Starting simulation with GPTvoters, 45 responses, and seed 90 after 220 minutes.\n",
      "Starting simulation with GPTvoters, 45 responses, and seed 91 after 227 minutes.\n",
      "Starting simulation with GPTvoters, 45 responses, and seed 92 after 234 minutes.\n",
      "Starting simulation with GPTvoters, 45 responses, and seed 93 after 242 minutes.\n",
      "Starting simulation with GPTvoters, 45 responses, and seed 94 after 249 minutes.\n",
      "Starting simulation with GPTvoters, 45 responses, and seed 95 after 257 minutes.\n",
      "Starting simulation with GPTvoters, 45 responses, and seed 96 after 264 minutes.\n",
      "Starting simulation with GPTvoters, 45 responses, and seed 97 after 272 minutes.\n",
      "Starting simulation with GPTvoters, 45 responses, and seed 98 after 279 minutes.\n",
      "Starting simulation with GPTvoters, 45 responses, and seed 99 after 286 minutes.\n",
      "Starting simulation with Candidates, 45 responses, and seed 90 after 294 minutes.\n",
      "Starting simulation with Candidates, 45 responses, and seed 91 after 301 minutes.\n",
      "Starting simulation with Candidates, 45 responses, and seed 92 after 309 minutes.\n",
      "Starting simulation with Candidates, 45 responses, and seed 93 after 316 minutes.\n",
      "Starting simulation with Candidates, 45 responses, and seed 94 after 324 minutes.\n",
      "Starting simulation with Candidates, 45 responses, and seed 95 after 331 minutes.\n",
      "Starting simulation with Candidates, 45 responses, and seed 96 after 338 minutes.\n",
      "Starting simulation with Candidates, 45 responses, and seed 97 after 346 minutes.\n",
      "Starting simulation with Candidates, 45 responses, and seed 98 after 353 minutes.\n",
      "Starting simulation with Candidates, 45 responses, and seed 99 after 361 minutes.\n"
     ]
    }
   ],
   "source": [
    "logger.setLevel(logging.CRITICAL)\n",
    "\n",
    "start_time = pd.Timestamp.now()\n",
    "for data in datasets.keys():\n",
    "    for K in range(45,46,5):        \n",
    "        for random_state in range(90, 100):\n",
    "            elapsed = (pd.Timestamp.now() - start_time).seconds\n",
    "            print(f'Starting simulation with {data}, {K} responses, and seed {random_state} after {round(elapsed/60)} minutes.')\n",
    "            run_simulation( dataset=data, \n",
    "                            method=al.Uncertainty, \n",
    "                            n_queries=K, \n",
    "                            n_voters=1000,\n",
    "                            random_state=random_state,\n",
    "                            verbose=None)"
   ]
  },
  {
   "cell_type": "markdown",
   "id": "1f89fc52",
   "metadata": {},
   "source": [
    "### Replace Strategy"
   ]
  },
  {
   "cell_type": "code",
   "execution_count": 6,
   "id": "aa4dc515",
   "metadata": {},
   "outputs": [
    {
     "name": "stdout",
     "output_type": "stream",
     "text": [
      "Starting simulation with cap 360, step 2, and seed 90 after 0 minutes.\n",
      "Starting simulation with cap 400, step 2, and seed 90 after 6 minutes.\n",
      "Starting simulation with cap 360, step 4, and seed 90 after 11 minutes.\n",
      "Starting simulation with cap 400, step 4, and seed 90 after 16 minutes.\n",
      "Starting simulation with cap 360, step 6, and seed 90 after 22 minutes.\n",
      "Starting simulation with cap 400, step 6, and seed 90 after 28 minutes.\n",
      "Starting simulation with cap 360, step 8, and seed 90 after 33 minutes.\n",
      "Starting simulation with cap 400, step 8, and seed 90 after 39 minutes.\n",
      "Starting simulation with cap 360, step 10, and seed 90 after 44 minutes.\n",
      "Starting simulation with cap 400, step 10, and seed 90 after 50 minutes.\n",
      "Starting simulation with cap 360, step 2, and seed 91 after 56 minutes.\n",
      "Starting simulation with cap 400, step 2, and seed 91 after 61 minutes.\n",
      "Starting simulation with cap 360, step 4, and seed 91 after 67 minutes.\n",
      "Starting simulation with cap 400, step 4, and seed 91 after 72 minutes.\n",
      "Starting simulation with cap 360, step 6, and seed 91 after 77 minutes.\n",
      "Starting simulation with cap 400, step 6, and seed 91 after 83 minutes.\n",
      "Starting simulation with cap 360, step 8, and seed 91 after 89 minutes.\n",
      "Starting simulation with cap 400, step 8, and seed 91 after 95 minutes.\n",
      "Starting simulation with cap 360, step 10, and seed 91 after 100 minutes.\n",
      "Starting simulation with cap 400, step 10, and seed 91 after 106 minutes.\n",
      "Starting simulation with cap 360, step 2, and seed 92 after 111 minutes.\n",
      "Starting simulation with cap 400, step 2, and seed 92 after 117 minutes.\n",
      "Starting simulation with cap 360, step 4, and seed 92 after 122 minutes.\n",
      "Starting simulation with cap 400, step 4, and seed 92 after 128 minutes.\n",
      "Starting simulation with cap 360, step 6, and seed 92 after 133 minutes.\n",
      "Starting simulation with cap 400, step 6, and seed 92 after 138 minutes.\n",
      "Starting simulation with cap 360, step 8, and seed 92 after 144 minutes.\n",
      "Starting simulation with cap 400, step 8, and seed 92 after 149 minutes.\n",
      "Starting simulation with cap 360, step 10, and seed 92 after 155 minutes.\n",
      "Starting simulation with cap 400, step 10, and seed 92 after 160 minutes.\n",
      "Starting simulation with cap 360, step 2, and seed 93 after 166 minutes.\n",
      "Starting simulation with cap 400, step 2, and seed 93 after 172 minutes.\n",
      "Starting simulation with cap 360, step 4, and seed 93 after 177 minutes.\n",
      "Starting simulation with cap 400, step 4, and seed 93 after 183 minutes.\n",
      "Starting simulation with cap 360, step 6, and seed 93 after 189 minutes.\n",
      "Starting simulation with cap 400, step 6, and seed 93 after 195 minutes.\n",
      "Starting simulation with cap 360, step 8, and seed 93 after 200 minutes.\n",
      "Starting simulation with cap 400, step 8, and seed 93 after 206 minutes.\n",
      "Starting simulation with cap 360, step 10, and seed 93 after 212 minutes.\n",
      "Starting simulation with cap 400, step 10, and seed 93 after 217 minutes.\n",
      "Starting simulation with cap 360, step 2, and seed 94 after 223 minutes.\n",
      "Starting simulation with cap 400, step 2, and seed 94 after 229 minutes.\n",
      "Starting simulation with cap 360, step 4, and seed 94 after 234 minutes.\n",
      "Starting simulation with cap 400, step 4, and seed 94 after 240 minutes.\n",
      "Starting simulation with cap 360, step 6, and seed 94 after 245 minutes.\n",
      "Starting simulation with cap 400, step 6, and seed 94 after 251 minutes.\n",
      "Starting simulation with cap 360, step 8, and seed 94 after 256 minutes.\n",
      "Starting simulation with cap 400, step 8, and seed 94 after 261 minutes.\n",
      "Starting simulation with cap 360, step 10, and seed 94 after 267 minutes.\n",
      "Starting simulation with cap 400, step 10, and seed 94 after 272 minutes.\n",
      "Starting simulation with cap 360, step 2, and seed 95 after 278 minutes.\n",
      "Starting simulation with cap 400, step 2, and seed 95 after 283 minutes.\n",
      "Starting simulation with cap 360, step 4, and seed 95 after 288 minutes.\n",
      "Starting simulation with cap 400, step 4, and seed 95 after 294 minutes.\n",
      "Starting simulation with cap 360, step 6, and seed 95 after 299 minutes.\n",
      "Starting simulation with cap 400, step 6, and seed 95 after 304 minutes.\n",
      "Starting simulation with cap 360, step 8, and seed 95 after 310 minutes.\n",
      "Starting simulation with cap 400, step 8, and seed 95 after 315 minutes.\n",
      "Starting simulation with cap 360, step 10, and seed 95 after 321 minutes.\n",
      "Starting simulation with cap 400, step 10, and seed 95 after 326 minutes.\n",
      "Starting simulation with cap 360, step 2, and seed 96 after 331 minutes.\n",
      "Starting simulation with cap 400, step 2, and seed 96 after 337 minutes.\n",
      "Starting simulation with cap 360, step 4, and seed 96 after 342 minutes.\n",
      "Starting simulation with cap 400, step 4, and seed 96 after 348 minutes.\n",
      "Starting simulation with cap 360, step 6, and seed 96 after 353 minutes.\n",
      "Starting simulation with cap 400, step 6, and seed 96 after 358 minutes.\n",
      "Starting simulation with cap 360, step 8, and seed 96 after 364 minutes.\n",
      "Starting simulation with cap 400, step 8, and seed 96 after 369 minutes.\n",
      "Starting simulation with cap 360, step 10, and seed 96 after 375 minutes.\n",
      "Starting simulation with cap 400, step 10, and seed 96 after 380 minutes.\n",
      "Starting simulation with cap 360, step 2, and seed 97 after 386 minutes.\n",
      "Starting simulation with cap 400, step 2, and seed 97 after 392 minutes.\n",
      "Starting simulation with cap 360, step 4, and seed 97 after 397 minutes.\n",
      "Starting simulation with cap 400, step 4, and seed 97 after 402 minutes.\n",
      "Starting simulation with cap 360, step 6, and seed 97 after 408 minutes.\n",
      "Starting simulation with cap 400, step 6, and seed 97 after 413 minutes.\n",
      "Starting simulation with cap 360, step 8, and seed 97 after 419 minutes.\n",
      "Starting simulation with cap 400, step 8, and seed 97 after 424 minutes.\n",
      "Starting simulation with cap 360, step 10, and seed 97 after 429 minutes.\n",
      "Starting simulation with cap 400, step 10, and seed 97 after 434 minutes.\n",
      "Starting simulation with cap 360, step 2, and seed 98 after 440 minutes.\n",
      "Starting simulation with cap 400, step 2, and seed 98 after 445 minutes.\n",
      "Starting simulation with cap 360, step 4, and seed 98 after 450 minutes.\n",
      "Starting simulation with cap 400, step 4, and seed 98 after 455 minutes.\n",
      "Starting simulation with cap 360, step 6, and seed 98 after 460 minutes.\n",
      "Starting simulation with cap 400, step 6, and seed 98 after 466 minutes.\n",
      "Starting simulation with cap 360, step 8, and seed 98 after 471 minutes.\n",
      "Starting simulation with cap 400, step 8, and seed 98 after 476 minutes.\n",
      "Starting simulation with cap 360, step 10, and seed 98 after 481 minutes.\n",
      "Starting simulation with cap 400, step 10, and seed 98 after 487 minutes.\n",
      "Starting simulation with cap 360, step 2, and seed 99 after 492 minutes.\n",
      "Starting simulation with cap 400, step 2, and seed 99 after 497 minutes.\n",
      "Starting simulation with cap 360, step 4, and seed 99 after 503 minutes.\n",
      "Starting simulation with cap 400, step 4, and seed 99 after 508 minutes.\n",
      "Starting simulation with cap 360, step 6, and seed 99 after 513 minutes.\n",
      "Starting simulation with cap 400, step 6, and seed 99 after 519 minutes.\n",
      "Starting simulation with cap 360, step 8, and seed 99 after 524 minutes.\n",
      "Starting simulation with cap 400, step 8, and seed 99 after 530 minutes.\n",
      "Starting simulation with cap 360, step 10, and seed 99 after 535 minutes.\n",
      "Starting simulation with cap 400, step 10, and seed 99 after 541 minutes.\n"
     ]
    }
   ],
   "source": [
    "start_time = pd.Timestamp.now()\n",
    "for random_state in range(90,100):\n",
    "    for forget_step in [2, 4, 6, 8, 10]:\n",
    "        for forget_max in [360, 400]:\n",
    "            elapsed = (pd.Timestamp.now() - start_time).seconds\n",
    "            print(f'Starting simulation with cap {forget_max}, step {forget_step}, and seed {random_state} after {round(elapsed/60)} minutes.')\n",
    "            test_reactions = voters.sample(n=1200, random_state=random_state)\n",
    "            model = XPLORE(gptdata, prior_cov=np.array([[.075, 0], [0, .075]]))\n",
    "            method = al.Uncertainty(model=model)\n",
    "            simulation = al.ColdStartSimulation(method, test_reactions, candidates, number_queries=30, forget=forget_max, forget_step=forget_step)\n",
    "            simulation.run(verbose=100)\n",
    "            simulation.save_results(f'GPT-Replace-{forget_max}-{forget_step}', suffix=f'_S{random_state}')"
   ]
  },
  {
   "cell_type": "code",
   "execution_count": 8,
   "id": "6d8688a1",
   "metadata": {},
   "outputs": [
    {
     "name": "stdout",
     "output_type": "stream",
     "text": [
      "Starting simulation with cap 400, step 20, and seed 90 after 0 minutes.\n",
      "Starting simulation with cap 400, step 40, and seed 90 after 6 minutes.\n",
      "Starting simulation with cap 400, step 20, and seed 91 after 11 minutes.\n",
      "Starting simulation with cap 400, step 40, and seed 91 after 16 minutes.\n",
      "Starting simulation with cap 400, step 20, and seed 92 after 22 minutes.\n",
      "Starting simulation with cap 400, step 40, and seed 92 after 27 minutes.\n",
      "Starting simulation with cap 400, step 20, and seed 93 after 33 minutes.\n",
      "Starting simulation with cap 400, step 40, and seed 93 after 38 minutes.\n",
      "Starting simulation with cap 400, step 20, and seed 94 after 44 minutes.\n",
      "Starting simulation with cap 400, step 40, and seed 94 after 49 minutes.\n",
      "Starting simulation with cap 400, step 20, and seed 95 after 55 minutes.\n",
      "Starting simulation with cap 400, step 40, and seed 95 after 61 minutes.\n",
      "Starting simulation with cap 400, step 20, and seed 96 after 67 minutes.\n",
      "Starting simulation with cap 400, step 40, and seed 96 after 72 minutes.\n",
      "Starting simulation with cap 400, step 20, and seed 97 after 78 minutes.\n",
      "Starting simulation with cap 400, step 40, and seed 97 after 83 minutes.\n",
      "Starting simulation with cap 400, step 20, and seed 98 after 88 minutes.\n",
      "Starting simulation with cap 400, step 40, and seed 98 after 94 minutes.\n",
      "Starting simulation with cap 400, step 20, and seed 99 after 99 minutes.\n",
      "Starting simulation with cap 400, step 40, and seed 99 after 104 minutes.\n"
     ]
    }
   ],
   "source": [
    "start_time = pd.Timestamp.now()\n",
    "for random_state in range(90,100):\n",
    "    for forget_step in [20, 40]:\n",
    "        for forget_max in [400]:\n",
    "            elapsed = (pd.Timestamp.now() - start_time).seconds\n",
    "            print(f'Starting simulation with cap {forget_max}, step {forget_step}, and seed {random_state} after {round(elapsed/60)} minutes.')\n",
    "            test_reactions = voters.sample(n=1200, random_state=random_state)\n",
    "            model = XPLORE(gptdata, prior_cov=np.array([[.075, 0], [0, .075]]))\n",
    "            method = al.Uncertainty(model=model)\n",
    "            simulation = al.ColdStartSimulation(method, test_reactions, candidates, number_queries=30, forget=forget_max, forget_step=forget_step)\n",
    "            simulation.run(verbose=100)\n",
    "            simulation.save_results(f'GPT-Replace-{forget_max}-{forget_step}', suffix=f'_S{random_state}')"
   ]
  },
  {
   "cell_type": "code",
   "execution_count": null,
   "id": "7330d71d",
   "metadata": {},
   "outputs": [
    {
     "data": {
      "text/plain": [
       "(5.953333333333333, 2.815)"
      ]
     },
     "execution_count": 9,
     "metadata": {},
     "output_type": "execute_result"
    }
   ],
   "source": [
    "dataset = pd.concat([gptvoters.sample(n=1000, random_state=42),gptdata.groupby(level=0).mean()])\n",
    "for random_state in range(90,100):\n",
    "    print(f'Starting simulation {random_state}.')\n",
    "    test_reactions = voters.sample(n=1200, random_state=random_state)\n",
    "    model = XPLORE(dataset, prior_cov=np.array([[.075, 0], [0, .075]]))\n",
    "    method = al.Uncertainty(model=model)\n",
    "    simulation = al.ColdStartSimulation(method, test_reactions, candidates, number_queries=30, forget=1200, forget_step=15)\n",
    "    simulation.run(verbose=100)\n",
    "    simulation.save_results(f'GPTvoters-Replace-{...}', suffix=f'_S{random_state}')"
   ]
  },
  {
   "cell_type": "code",
   "execution_count": null,
   "id": "41345954",
   "metadata": {},
   "outputs": [],
   "source": []
  }
 ],
 "metadata": {
  "kernelspec": {
   "display_name": "CSM",
   "language": "python",
   "name": "python3"
  },
  "language_info": {
   "codemirror_mode": {
    "name": "ipython",
    "version": 3
   },
   "file_extension": ".py",
   "mimetype": "text/x-python",
   "name": "python",
   "nbconvert_exporter": "python",
   "pygments_lexer": "ipython3",
   "version": "3.9.18"
  }
 },
 "nbformat": 4,
 "nbformat_minor": 5
}
